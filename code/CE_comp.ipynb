{
 "cells": [
  {
   "cell_type": "code",
   "execution_count": 62,
   "metadata": {},
   "outputs": [],
   "source": [
    "from scipy.stats import norm\n",
    "from matplotlib import pyplot as plt \n",
    "import numpy as np\n",
    "np.set_printoptions(threshold=np.inf)\n",
    "np.set_printoptions(suppress = True)"
   ]
  },
  {
   "cell_type": "code",
   "execution_count": 16,
   "metadata": {},
   "outputs": [],
   "source": [
    "#Init parameters\n",
    "S0_init = 30       #S_0\n",
    "K_init = 30        #Strike price (=S_0)\n",
    "T_init = 10        #Maturity\n",
    "v_init = 2         #Vesting period\n",
    "r_init = 0.05      #RF rate\n",
    "N_init = 10        #Height of tree\n",
    "sigma_init = 0.3   #Volatility\n",
    "m_init = 2         #Exercise multiple (m>1)\n",
    "\n",
    "#For R option: alpha is percentage that gets converted to stock, gamma the \"risk premium\"\n",
    "alpha_init = 0.75\n",
    "gamma_init = 0.1\n",
    "\n",
    "\n",
    "#Agent-level parameters\n",
    "risk_init = 1.5 #>1 because agent is risk-averse"
   ]
  },
  {
   "cell_type": "code",
   "execution_count": 50,
   "metadata": {},
   "outputs": [],
   "source": [
    "#Iso-elastic utility\n",
    "def util(w, risk):  #TO-DO: handle log-utility case \n",
    "    if w==0:\n",
    "        return 0\n",
    "    else:\n",
    "        return (w**(1-risk)) / (1-risk)\n",
    "\n",
    "\n",
    "#Inverse of iso-elastic utility, needed to compute CE (input utility, returns wealth)\n",
    "def u_minus(u, risk):\n",
    "    if u==0:\n",
    "        return 0\n",
    "    else:\n",
    "        return (u*(1-risk))**(1/(1-risk))"
   ]
  },
  {
   "cell_type": "code",
   "execution_count": 53,
   "metadata": {},
   "outputs": [],
   "source": [
    "def rn_eso_CE(S0,K,T,v,r,N,sigma,m, risk):\n",
    "    #Init values\n",
    "    dt = 1/N                        #number of steps\n",
    "    u = np.exp(sigma * np.sqrt(dt)) #using CRR method with (constant) volatility\n",
    "    d = 1/u                         #to maintain the triangular structure of the tree (i.e., recombinant tree)\n",
    "    q = (np.exp(r*dt) - d)/(u-d)    #q is the RN probability\n",
    "    disc = np.exp(-r*dt)            #discount\n",
    "\n",
    "  #Build up stock price tree (needed for next step)\n",
    "    S = np.zeros(T*N+1)\n",
    "    for j in range(0, T*N+1): #build up the nodes from the bottom\n",
    "      S[j] = S0 * u**j * d**(T*N-j)\n",
    "\n",
    "  #Utility if exercising at all nodes (when option is in-money)\n",
    "    U = np.zeros(T*N+1)\n",
    "    for j in range(0, T*N+1):\n",
    "      w = max(0, S[j] - K)\n",
    "      #print(w)\n",
    "      U[j] = util(w, risk)\n",
    "\n",
    "  #Backward recursion through the tree: at each node, is it optimal (in terms of utility) to exercise or not?\n",
    "    for i in np.arange(T*N-1,-1,-1):\n",
    "      for j in range(0,i+1):\n",
    "        S = S0 * u**j * d**(i-j)                      #S is function of j (#ups) and i-j (#downs)\n",
    "        vested = (i+j >= v*N)\n",
    "\n",
    "        if not vested:                                #Unvested\n",
    "          U[j] = disc * ( q*U[j+1] + (1-q)*U[j] )\n",
    "        elif vested & (S>=K*m):                       #Vested and early exercisable (as function of multiple - )\n",
    "          U[j] = util(S - K, risk)\n",
    "        elif vested & (S<K*m):                        #Vested but unexercisable (as function of multiple)\n",
    "          U[j] = disc * ( q*U[j+1] + (1-q)*U[j] )\n",
    "\n",
    "        #NON-VESTED case - Comment the ifs above and run the below\n",
    "          #C[j] = disc * ( q*C[j+1] + (1-q)*C[j] )\n",
    "          #C[j] = max(C[j], S - K)\n",
    "    return u_minus(U[0], risk)"
   ]
  },
  {
   "cell_type": "code",
   "execution_count": 60,
   "metadata": {},
   "outputs": [
    {
     "name": "stdout",
     "output_type": "stream",
     "text": [
      "0.8816418889113407\n",
      "0.02139429600605729\n"
     ]
    }
   ],
   "source": [
    "#print(u_minus(util(5.54356432,2),2))\n",
    "#print(util(2,2.3))\n",
    "\n",
    "#CE with RN option for different levels of risk aversion -> should be decreasing with risk aversion\n",
    "rn1 = rn_eso_CE(S0_init,K_init,T_init,v_init,r_init,N_init,sigma_init,m_init, 1.1)\n",
    "\n",
    "rn2 = rn_eso_CE(S0_init,K_init,T_init,v_init,r_init,N_init,sigma_init,m_init, 1.12)\n",
    "\n",
    "\n",
    "print(rn1)\n",
    "print(rn2)"
   ]
  },
  {
   "cell_type": "code",
   "execution_count": 81,
   "metadata": {},
   "outputs": [
    {
     "data": {
      "image/png": "[encoded data removed]",
      "text/plain": [
       "<Figure size 640x480 with 1 Axes>"
      ]
     },
     "metadata": {},
     "output_type": "display_data"
    }
   ],
   "source": [
    "risks = np.zeros(101)\n",
    "cert_eq = np.zeros(101)\n",
    "\n",
    "for i in range(0, 101):\n",
    "    risks[i] = 1.10+i/1000\n",
    "    cert_eq[i] = rn_eso_CE(S0_init,K_init,T_init,v_init,r_init,N_init,sigma_init,m_init, risks[i])\n",
    "\n",
    "plt.plot(risks, cert_eq)\n",
    "plt.xlim(1.05, 1.25)\n",
    "\n",
    "plt.show()"
   ]
  }
 ],
 "metadata": {
  "kernelspec": {
   "display_name": "Python 3",
   "language": "python",
   "name": "python3"
  },
  "language_info": {
   "codemirror_mode": {
    "name": "ipython",
    "version": 3
   },
   "file_extension": ".py",
   "mimetype": "text/x-python",
   "name": "python",
   "nbconvert_exporter": "python",
   "pygments_lexer": "ipython3",
   "version": "3.9.1"
  }
 },
 "nbformat": 4,
 "nbformat_minor": 2
}
