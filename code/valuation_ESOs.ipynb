{
  "cells": [
    {
      "cell_type": "code",
      "execution_count": 143,
      "metadata": {
        "id": "pG3PLr8obhVI"
      },
      "outputs": [],
      "source": [
        "from scipy.stats import norm\n",
        "import numpy as np\n",
        "np.set_printoptions(threshold=np.inf)\n",
        "np.set_printoptions(suppress = True)"
      ]
    },
    {
      "cell_type": "code",
      "execution_count": 144,
      "metadata": {
        "id": "CMbD9nmDUK0t"
      },
      "outputs": [],
      "source": [
        "#Init parameters\n",
        "S0_init = 30       #S_0\n",
        "K_init = 30        #Strike price (=S_0)\n",
        "T_init = 10        #Maturity\n",
        "v_init = 3         #Vesting period\n",
        "r_init = 0.05      #RF rate\n",
        "N_init = 10        #Height of tree\n",
        "sigma_init = 0.3   #Volatility\n",
        "m_init = 2         #Exercise multiple (m>1)\n",
        "\n",
        "#For R option: alpha is percentage that gets converted to stock, gamma the \"risk premium\"\n",
        "alpha_init = 0.9\n",
        "gamma_init = 0.05"
      ]
    },
    {
      "cell_type": "code",
      "execution_count": 145,
      "metadata": {
        "id": "u3X0QrN7agc8"
      },
      "outputs": [],
      "source": [
        "def rn_eso(S0,K,T,v,r,N,sigma,m):\n",
        "  #Init values\n",
        "    dt = 1/N                        #number of steps\n",
        "    u = np.exp(sigma * np.sqrt(dt)) #using CRR method with (constant) volatility\n",
        "    d = 1/u                         #to maintain the triangular structure of the tree (i.e., recombinant tree)\n",
        "    q = (np.exp(r*dt) - d)/(u-d)    #q is the RN probability\n",
        "    disc = np.exp(-r*dt)            #discount\n",
        "\n",
        "  #Build up terminal stock price nodes\n",
        "    S = np.zeros(T*N+1)\n",
        "    for j in range(0, T*N+1): #build up the nodes from the bottom\n",
        "      S[j] = S0 * u**j * d**(T*N-j)\n",
        "\n",
        "  #Option payoff if exercising at all nodes\n",
        "    C = np.zeros(T*N+1)\n",
        "    for j in range(0, T*N+1):\n",
        "      C[j] = max(0, S[j] - K)\n",
        "\n",
        "  #Backward recursion through the tree: at each node, is it optimal to exercise or not?\n",
        "    for i in np.arange(T*N-1,-1,-1):\n",
        "      for j in range(0,i+1):\n",
        "        S = S0 * u**j * d**(i-j)                      #S is function of j (#ups) and i-j (#downs)\n",
        "        vested = (i+j >= v*N)\n",
        "\n",
        "        if not vested:                                #Unvested\n",
        "          C[j] = disc * ( q*C[j+1] + (1-q)*C[j] )\n",
        "        elif vested & (S>=K*m):                       #Vested and early exercisable (as function of multiple - )\n",
        "          C[j] = S - K\n",
        "        elif vested & (S<K*m):                        #Vested but unexercisable (as function of multiple)\n",
        "          C[j] = disc * ( q*C[j+1] + (1-q)*C[j] )\n",
        "\n",
        "        #NON-VESTED case - Comment the ifs above and run the below\n",
        "          #C[j] = disc * ( q*C[j+1] + (1-q)*C[j] )\n",
        "          #C[j] = max(C[j], S - K)\n",
        "    return C[0]"
      ]
    },
    {
      "cell_type": "code",
      "execution_count": 161,
      "metadata": {
        "id": "H0yWeHoGYwbU"
      },
      "outputs": [],
      "source": [
        "def black_scholes(S, K, T, r, sigma):\n",
        "    d1 = (np.log(S / K) + (r + sigma**2/2) * T) / (sigma * np.sqrt(T))\n",
        "    d2 = d1 - sigma * np.sqrt(T)\n",
        "\n",
        "    return S * norm.cdf(d1) - K * np.exp(-r * T) * norm.cdf(d2)"
      ]
    },
    {
      "cell_type": "code",
      "execution_count": 164,
      "metadata": {
        "id": "8lzc8KlF5Uj0"
      },
      "outputs": [],
      "source": [
        "def r_eso(S0,K,T,v,r,N,sigma,m,alpha,gamma):\n",
        "  #Init values\n",
        "    dt = 1/N                        #number of steps\n",
        "    u = np.exp(sigma * np.sqrt(dt)) #using CRR method with (constant) volatility\n",
        "    d = 1/u                         #to maintain the triangular structure of the tree (i.e., recombinant tree)\n",
        "    q = (np.exp(r*dt) - d)/(u-d)    #q is the RN probability\n",
        "    disc = np.exp(-r*dt)            #discount\n",
        "\n",
        "\n",
        "  #Build up stock price tree (needed for next step)\n",
        "    S = np.zeros(T*N+1)\n",
        "    for j in range(0, T*N+1): #build up the nodes from the bottom\n",
        "      S[j] = S0 * u**j * d**(T*N-j)\n",
        "\n",
        "  #Initialize option vector\n",
        "    C = np.zeros(T*N+1)\n",
        "    for j in range(0, T*N+1):\n",
        "      C[j] = max(0, S[j] - K)\n",
        "\n",
        "  #Backward recursion through the tree: at each node, is it optimal to exercise or not?\n",
        "    for i in np.arange(T*N-1,-1,-1):\n",
        "      for j in range(0,i+1):\n",
        "        S = S0 * u**j * d**(i-j)                      #S is function of j (#ups) and i-j (#downs)\n",
        "        vested = (i+j >= v*N)\n",
        "\n",
        "        if not vested:                                  #Unvested\n",
        "          C[j] = disc * (q*C[j+1] + (1-q)*C[j])\n",
        "        elif vested & (S >= K*m):                       #Vested and exercisable (as function of multiple)\n",
        "          C[j] = S - K + (1-alpha+gamma)*(black_scholes(S,K,T,r,sigma)-(S-K))\n",
        "        elif vested & (S < K*m):                        #Vested but unexercisable (as function of multiple)\n",
        "          C[j] = disc * (q*C[j+1] + (1-q)*C[j])\n",
        "\n",
        "        #NON-VESTED case - Comment the ifs above and run the below\n",
        "          #C[j] = disc * ( q*C[j+1] + (1-q)*C[j] )\n",
        "          #C[j] = max(C[j], S - K)\n",
        "\n",
        "    return C[0]"
      ]
    },
    {
      "cell_type": "code",
      "execution_count": 148,
      "metadata": {
        "id": "2pR9djiN3xIf"
      },
      "outputs": [],
      "source": [
        "def r_eso_mod(S0,K,T,v,r,N,sigma,m,alpha,gamma):\n",
        "  #Init values\n",
        "    dt = 1/N                        #number of steps\n",
        "    u = np.exp(sigma * np.sqrt(dt)) #using CRR method with (constant) volatility\n",
        "    d = 1/u                         #to maintain the triangular structure of the tree (i.e., recombinant tree)\n",
        "    q = (np.exp(r*dt) - d)/(u-d)    #q is the RN probability\n",
        "    disc = np.exp(-r*dt)            #discount\n",
        "\n",
        "\n",
        "  #Build up stock price tree (needed for next step)\n",
        "    S = np.zeros(T*N+1)\n",
        "    for j in range(0, T*N+1): #build up the nodes from the bottom\n",
        "      S[j] = S0 * u**j * d**(T*N-j)\n",
        "\n",
        "  #Option payoff if exercising at all nodes\n",
        "    C = np.zeros(T*N+1)\n",
        "    for j in range(0, T*N+1):\n",
        "      C[j] = max(0, S[j] - K)\n",
        "\n",
        "  #Backward recursion through the tree: at each node, is it optimal to exercise or not?\n",
        "    for i in np.arange(T*N-1,-1,-1):\n",
        "      for j in range(0,i+1):\n",
        "        S = S0 * u**j * d**(i-j)                      #S is function of j (#ups) and i-j (#downs)\n",
        "        vested = (i+j >= v*N)\n",
        "\n",
        "        if not vested:                                #Unvested\n",
        "          C[j] = disc * (q*C[j+1] + (1-q)*C[j])\n",
        "        elif vested & (S >= K*m):                       #Vested and exercisable (as function of multiple)\n",
        "          C[j] = (1+gamma)*(S - K) + (1-alpha+gamma)*(black_scholes(S,K,T,r,sigma)-(S-K))\n",
        "        elif vested & (S < K*m):                        #Vested but unexercisable (as function of multiple)\n",
        "          C[j] = disc * (q*C[j+1] + (1-q)*C[j])\n",
        "\n",
        "        #NON-VESTED:\n",
        "          #C[j] = disc * ( q*C[j+1] + (1-q)*C[j] )\n",
        "          #C[j] = max(C[j], S - K)\n",
        "\n",
        "    return C[0]"
      ]
    },
    {
      "cell_type": "code",
      "execution_count": 149,
      "metadata": {
        "colab": {
          "base_uri": "https://localhost:8080/"
        },
        "id": "uxFH9_Aw4Hn8",
        "outputId": "73d71d70-46eb-464a-d53c-8a3a6752b7d0"
      },
      "outputs": [
        {
          "name": "stdout",
          "output_type": "stream",
          "text": [
            "Cost of RN: 13.655803695861094\n"
          ]
        }
      ],
      "source": [
        "rn = rn_eso(S0_init,K_init,T_init,v_init,r_init,1,sigma_init,m_init)\n",
        "print(\"Cost of RN:\", rn)"
      ]
    },
    {
      "cell_type": "code",
      "execution_count": 182,
      "metadata": {
        "colab": {
          "base_uri": "https://localhost:8080/"
        },
        "id": "JqaI4ewy4ZU_",
        "outputId": "c57cb791-673a-497a-a919-83d973cbeb46"
      },
      "outputs": [
        {
          "name": "stdout",
          "output_type": "stream",
          "text": [
            "Cost of R: 13.408953433662534\n"
          ]
        }
      ],
      "source": [
        "r = r_eso(S0_init,K_init,T_init,v_init,r_init,500,sigma_init,m_init,alpha_init,gamma_init)\n",
        "print(\"Cost of R: \", end=\"\")\n",
        "print(r)"
      ]
    },
    {
      "cell_type": "code",
      "execution_count": 151,
      "metadata": {
        "colab": {
          "base_uri": "https://localhost:8080/"
        },
        "id": "ci-M6SDn4gHZ",
        "outputId": "b63ee1a9-cf79-48bc-dd1b-6ed6b82c1303"
      },
      "outputs": [
        {
          "name": "stdout",
          "output_type": "stream",
          "text": [
            "Cost of R modified: 14.270431106226274\n"
          ]
        }
      ],
      "source": [
        "r_mod = r_eso_mod(S0_init,K_init,T_init,v_init,r_init,N_init,sigma_init,m_init,alpha_init,gamma_init)\n",
        "print(\"Cost of R modified: \", end=\"\")\n",
        "print(r_mod)"
      ]
    },
    {
      "cell_type": "code",
      "execution_count": 152,
      "metadata": {
        "colab": {
          "base_uri": "https://localhost:8080/"
        },
        "id": "Pf7DhawzbScQ",
        "outputId": "a527a263-f3f7-4145-e3c0-56c9fd13393d"
      },
      "outputs": [
        {
          "name": "stdout",
          "output_type": "stream",
          "text": [
            "0\n",
            "Cost of RN: 12.981051280090961\n",
            "Cost of R: 13.436197831881772\n",
            "Cost of R mod: 13.436197831881772\n",
            "R - RN = 0.4551465517908113\n",
            "R_mod - R = 0.0\n",
            "\n",
            "\n",
            "0.1\n",
            "Cost of RN: 12.981051280090961\n",
            "Cost of R: 13.891344383672584\n",
            "Cost of R mod: 15.10466438057078\n",
            "R - RN = 0.9102931035816226\n",
            "R_mod - R = 1.2133199968981963\n",
            "\n",
            "\n",
            "0.2\n",
            "Cost of RN: 12.981051280090961\n",
            "Cost of R: 14.34649093546339\n",
            "Cost of R mod: 16.773130929259793\n",
            "R - RN = 1.3654396553724286\n",
            "R_mod - R = 2.426639993796403\n",
            "\n",
            "\n",
            "0.3\n",
            "Cost of RN: 12.981051280090961\n",
            "Cost of R: 14.801637487254203\n",
            "Cost of R mod: 18.441597477948793\n",
            "R - RN = 1.8205862071632417\n",
            "R_mod - R = 3.6399599906945905\n",
            "\n",
            "\n"
          ]
        }
      ],
      "source": [
        "gammas = [0, 0.1, 0.2, 0.3]\n",
        "for g in gammas:\n",
        "  #Compute costs:\n",
        "  rn = rn_eso(S0_init,K_init,T_init,v_init,r_init,N_init,sigma_init,m_init)\n",
        "  r = r_eso(S0_init,K_init,T_init,v_init,r_init,N_init,sigma_init,m_init,alpha_init,g)\n",
        "  r_mod = r_eso_mod(S0_init,K_init,T_init,v_init,r_init,N_init,sigma_init,m_init,alpha_init,g)\n",
        "\n",
        "  print(g)\n",
        "  print(\"Cost of RN: \", end=\"\")\n",
        "  print(rn)\n",
        "\n",
        "  print(\"Cost of R: \", end=\"\")\n",
        "  print(r)\n",
        "\n",
        "  print(\"Cost of R mod: \", end=\"\")\n",
        "  print(r_mod)\n",
        "\n",
        "\n",
        "  print(\"R - RN = \", end=\"\")\n",
        "  print(r-rn)\n",
        "  print(\"R_mod - R = \", end=\"\")\n",
        "  print(r_mod-r)\n",
        "  print(\"\\n\")"
      ]
    },
    {
      "cell_type": "markdown",
      "metadata": {
        "id": "6S9bhdBOAi66"
      },
      "source": [
        "Next steps:\n",
        "*   [DONE] Plot # simulations needed for each option (1, 5, 10, 100)\n",
        "\n",
        "*   Plot R vs R_mod\n",
        "    * function of different alphas and gammas (steps by 0.01)\n",
        "*   Plot R, R_mod as function of changing S0, K, T,\n",
        "    * Expected: value goes up with higher S0, T, sigma, alpha, gamma\n",
        "    * Expected: value goes down with higher K, v,\n",
        "    * Effect of m (?)\n",
        "\n",
        "\n",
        "*   Compute two Greeks \n",
        "    * Delta: >0 because call option - changes in underlying price\n",
        "        * Graph Delta - alpha; can overlap graphs (2 changing vars needed)\n",
        "        * Graph Delta - gamma; can overlap graphs (2 changing vars needed)\n",
        "    * (Vega - changes in volatility; same graphs as above)\n",
        "\n",
        "\n",
        "*   !! Re-run everything using trinomial model\n",
        "*   To check: RN should be equal to R with alpha=1, gamma=0!!\n"
      ]
    },
    {
      "cell_type": "markdown",
      "metadata": {},
      "source": [
        "FROM HERE BELOW, ONLY PROD CODE \n"
      ]
    },
    {
      "cell_type": "code",
      "execution_count": 174,
      "metadata": {},
      "outputs": [
        {
          "name": "stdout",
          "output_type": "stream",
          "text": [
            "Cost of TESO: 13.655803695861094\n"
          ]
        }
      ],
      "source": [
        "#PROD: REPLICATION OF TESO\n",
        "\n",
        "rn = rn_eso(30,30,10,3,0.05,1,0.3,2)\n",
        "print(\"Cost of TESO:\", rn)"
      ]
    },
    {
      "cell_type": "code",
      "execution_count": 175,
      "metadata": {},
      "outputs": [
        {
          "name": "stdout",
          "output_type": "stream",
          "text": [
            "Cost of R: 14.553842384081651\n"
          ]
        }
      ],
      "source": [
        "#PROD: REPLICATION OF DESO\n",
        "\n",
        "r = r_eso(30,30,10,3,0.05,1,0.3,2,0.75,0)\n",
        "print(\"Cost of R:\", r)"
      ]
    },
    {
      "cell_type": "code",
      "execution_count": 180,
      "metadata": {},
      "outputs": [
        {
          "name": "stdout",
          "output_type": "stream",
          "text": [
            "['13.66', '12.98', '12.79', '12.79', '12.66', '12.69']\n",
            "['14.55', '14.12', '14.00', '14.00', '13.91', '13.93']\n"
          ]
        }
      ],
      "source": [
        "#PROD: TABLE diff_n - 2h to run\n",
        "\n",
        "N = [1, 10, 50, 100, 365, 500, 1000]\n",
        "\n",
        "rns = [rn_eso(30,30,10,3,0.05,n,0.3,2) for n in N]\n",
        "rs = [r_eso(30,30,10,3,0.05,n,0.3,2,0.75,0) for n in N]\n",
        "\n",
        "rns =  ['%.2f' % elem for elem in rns]\n",
        "rs = ['%.2f' % elem for elem in rs]\n",
        "\n",
        "\n",
        "print(rns)\n",
        "print(rs)"
      ]
    }
  ],
  "metadata": {
    "colab": {
      "provenance": []
    },
    "kernelspec": {
      "display_name": "Python 3",
      "name": "python3"
    },
    "language_info": {
      "codemirror_mode": {
        "name": "ipython",
        "version": 3
      },
      "file_extension": ".py",
      "mimetype": "text/x-python",
      "name": "python",
      "nbconvert_exporter": "python",
      "pygments_lexer": "ipython3",
      "version": "3.9.1"
    }
  },
  "nbformat": 4,
  "nbformat_minor": 0
}
